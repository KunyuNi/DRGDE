{
 "cells": [
  {
   "cell_type": "code",
   "execution_count": 88,
   "metadata": {},
   "outputs": [],
   "source": [
    "import torch\n",
    "import numpy as np\n",
    "import gc\n",
    "import time\n",
    "import pandas as pd\n",
    "import os\n",
    "import torch.nn as nn\n",
    "\n"
   ]
  },
  {
   "cell_type": "code",
   "execution_count": 89,
   "metadata": {},
   "outputs": [],
   "source": [
    "#the number of required features\n",
    "smooth_ratio=0.1\n",
    "rough_ratio=0\n",
    "dataset='C'"
   ]
  },
  {
   "cell_type": "code",
   "execution_count": 90,
   "metadata": {},
   "outputs": [],
   "source": [
    "# 读取文件\n",
    "test_data=pd.read_csv(dataset+'test.csv')\n",
    "rate_matrix=torch.Tensor(np.load(r'./'+dataset+'rate_sparse.npy')).cuda()"
   ]
  },
  {
   "cell_type": "code",
   "execution_count": 91,
   "metadata": {},
   "outputs": [
    {
     "data": {
      "text/plain": [
       "torch.Size([658, 409])"
      ]
     },
     "execution_count": 91,
     "metadata": {},
     "output_type": "execute_result"
    }
   ],
   "source": [
    "rate_matrix.shape"
   ]
  },
  {
   "cell_type": "code",
   "execution_count": 92,
   "metadata": {},
   "outputs": [],
   "source": [
    "# 转换为Tensor\n",
    "\"\"\" C drug:658, disease:409 association:2520\n",
    "\tF drug:593, disease:313 association:1933\n",
    "\tL drug:598, disease:269 association:18416\n",
    "\"\"\"\n",
    "# C\n",
    "drug_size,diease_size=658,409\n",
    "#F\n",
    "# drug_size,diease_size=593,313\n",
    "# L\n",
    "# drug_size,diease_size=598,269\n"
   ]
  },
  {
   "cell_type": "code",
   "execution_count": 93,
   "metadata": {},
   "outputs": [],
   "source": [
    "#drug degree and diease degree\n",
    "D_u=rate_matrix.sum(1)\n",
    "D_i=rate_matrix.sum(0)\n",
    "#in the case any users or items have no interactions\n",
    "for i in range(drug_size):\n",
    "\tif D_u[i]!=0:\n",
    "\t\tD_u[i]=1/D_u[i].sqrt()\n",
    "\n",
    "for i in range(diease_size):\n",
    "\tif D_i[i]!=0:\n",
    "\t\tD_i[i]=1/D_i[i].sqrt()\n",
    "rate_matrix=D_u.unsqueeze(1)*rate_matrix*D_i\n",
    "#clear GPU\n",
    "del D_u, D_i \n",
    "gc.collect()\n",
    "torch.cuda.empty_cache()\n"
   ]
  },
  {
   "cell_type": "code",
   "execution_count": null,
   "metadata": {},
   "outputs": [],
   "source": [
    "# Adj: adjacency matrix\n",
    "# size: the number of required features\n",
    "# largest: Ture (default) for k-largest (smoothed) and Flase for k-smallest (rough) eigenvalues 选择最大 和最小的\n",
    "# niter: maximum number of iterations\n",
    "def cal_spectral_feature(Adj, size, type='drug', largest=False, niter=5):\n",
    "\t# params for the function lobpcg\n",
    "\t# k: the number of required features\n",
    "\t# largest: Ture (default) for k-largest (smoothed)  and Flase for k-smallest (rough) eigenvalues\n",
    "\t# niter: maximum number of iterations\n",
    "\t# for more information, see https://pytorch.org/docs/stable/generated/torch.lobpcg.html\n",
    "\n",
    "\tvalue,vector=torch.lobpcg(Adj,k=size, largest=largest,niter=niter)\n",
    "\n",
    "\n",
    "\tif largest==True:\n",
    "\t\tfeature_file_name=dataset+'_smooth_'+type+'_features.npy'\n",
    "\t\tvalue_file_name=dataset+'_smooth_'+type+'_values.npy'\n",
    "\n",
    "\telse:\n",
    "\t\tfeature_file_name=dataset+'_rough_'+type+'_features.npy'\n",
    "\t\tvalue_file_name=dataset+'_rough_'+type+'_values.npy'\n",
    "\n",
    "\n",
    "\tnp.save(r'./'+value_file_name,value.cpu().numpy())\n",
    "\tnp.save(r'./'+feature_file_name,vector.cpu().numpy())"
   ]
  },
  {
   "cell_type": "code",
   "execution_count": 85,
   "metadata": {},
   "outputs": [],
   "source": [
    "#drug-drug matrix\n",
    "L_u=rate_matrix.mm(rate_matrix.t())\n",
    "# smoothed feautes for user-user relations\n",
    "cal_spectral_feature(L_u,int(smooth_ratio*drug_size),type='drug', largest=True)\n",
    "#rough feautes for user-user relations\n",
    "if rough_ratio!=0:\n",
    "\tcal_spectral_feature(L_u,int(rough_ratio*drug_size),type='drug',largest=False)"
   ]
  },
  {
   "cell_type": "code",
   "execution_count": 86,
   "metadata": {},
   "outputs": [],
   "source": [
    "#clear GPU\n",
    "del L_u \n",
    "gc.collect()\n",
    "torch.cuda.empty_cache()"
   ]
  },
  {
   "cell_type": "code",
   "execution_count": 87,
   "metadata": {},
   "outputs": [],
   "source": [
    "#item-item matrix\n",
    "L_i=rate_matrix.t().mm(rate_matrix)\n",
    "#smoothed feautes for item-item relations\n",
    "cal_spectral_feature(L_i,int(smooth_ratio*diease_size),type='diease', largest=True)\n",
    "#rough feautes for item-item relations\n",
    "if rough_ratio!=0:\n",
    "\tcal_spectral_feature(L_i,int(rough_ratio*diease_size),type='diease',largest=False)\n"
   ]
  },
  {
   "cell_type": "code",
   "execution_count": null,
   "metadata": {},
   "outputs": [],
   "source": []
  },
  {
   "cell_type": "code",
   "execution_count": null,
   "metadata": {},
   "outputs": [],
   "source": []
  }
 ],
 "metadata": {
  "kernelspec": {
   "display_name": "GDE",
   "language": "python",
   "name": "python3"
  },
  "language_info": {
   "codemirror_mode": {
    "name": "ipython",
    "version": 3
   },
   "file_extension": ".py",
   "mimetype": "text/x-python",
   "name": "python",
   "nbconvert_exporter": "python",
   "pygments_lexer": "ipython3",
   "version": "3.8.16"
  },
  "orig_nbformat": 4,
  "vscode": {
   "interpreter": {
    "hash": "db4aa3d91de15f0af2a289d000f925d27f6d94ef2fbc84666b4f0f19b790cc26"
   }
  }
 },
 "nbformat": 4,
 "nbformat_minor": 2
}
